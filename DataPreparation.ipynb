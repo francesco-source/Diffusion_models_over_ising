{
 "cells": [
  {
   "cell_type": "code",
   "execution_count": 20,
   "metadata": {},
   "outputs": [],
   "source": [
    "import numpy as np\n",
    "import matplotlib.pyplot as plt\n",
    "import os\n",
    "from tqdm import tqdm\n",
    "import multiprocessing as mp\n",
    "from itertools import repeat\n",
    "%matplotlib inline"
   ]
  },
  {
   "cell_type": "code",
   "execution_count": 21,
   "metadata": {},
   "outputs": [],
   "source": [
    "train_path = r'C:\\Users\\frenc\\Documents\\dottorato\\ising\\train'\n",
    "#test_path = '../../data/Ising/test/'\n",
    "valid_path = r'C:\\Users\\frenc\\Documents\\dottorato\\ising\\validation'"
   ]
  },
  {
   "cell_type": "code",
   "execution_count": 22,
   "metadata": {},
   "outputs": [],
   "source": [
    "def createArray(L):\n",
    "    mat = np.random.randint(0,2,size=(L,L), dtype=int)\n",
    "    mat[mat==0] = -1 \n",
    "    # Could also generate a uniform state, which is better for the Wolff algorithm\n",
    "    #mat = np.ones(shape=(L,L), dtype=int)\n",
    "    return mat"
   ]
  },
  {
   "cell_type": "code",
   "execution_count": 23,
   "metadata": {},
   "outputs": [],
   "source": [
    "import numpy as np\n",
    "\n",
    "def iterate(mat, T, calcE=False):\n",
    "    \"\"\"\n",
    "    Metropolis algorithm for a square lattice\n",
    "    \n",
    "    Parameters:\n",
    "        mat: numpy array containing the current spin configuration\n",
    "        T: Temperature for the simulation\n",
    "        calcE: Flag to calculate and return the average spin energy for the final configuration.\n",
    "    \n",
    "    Returns:\n",
    "        float or None: Average energy per spin if calcE is True, None otherwise\n",
    "    \"\"\"\n",
    "    L, _ = mat.shape\n",
    "    \n",
    "    order1 = np.arange(L)\n",
    "    order2 = np.arange(L)\n",
    "    np.random.shuffle(order1)\n",
    "    np.random.shuffle(order2)\n",
    "    \n",
    "    for i in order1:\n",
    "        for j in order2:\n",
    "            spin_current = mat[i,j]\n",
    "            spin_new = -spin_current  # Simplified spin flip\n",
    "            \n",
    "            # Calculate neighbor sum once and reuse\n",
    "            neighbor_sum = (mat[(i+1)%L,j] + mat[(i-1)%L,j] + \n",
    "                          mat[i,(j+1)%L] + mat[i,(j-1)%L])\n",
    "            \n",
    "            # Calculate energy difference\n",
    "            E_current = -spin_current * neighbor_sum\n",
    "            E_new = -spin_new * neighbor_sum\n",
    "            E_diff = E_new - E_current\n",
    "            \n",
    "            # Metropolis acceptance criterion\n",
    "            if E_diff <= 0 or np.random.random() <= np.exp(-E_diff/T):\n",
    "                mat[i,j] = spin_new\n",
    "    \n",
    "    if calcE:\n",
    "        avgE = 0.0\n",
    "        for i in range(L):  # Changed to use range instead of order1\n",
    "            for j in range(L):\n",
    "                spin_final = mat[i,j]\n",
    "                # Recalculate neighbor sum for final configuration\n",
    "                neighbor_sum = (mat[(i+1)%L,j] + mat[(i-1)%L,j] + \n",
    "                              mat[i,(j+1)%L] + mat[i,(j-1)%L])\n",
    "                E_final = -spin_final * neighbor_sum\n",
    "                avgE += E_final\n",
    "        \n",
    "        avgE /= (L * L)  # More readable than L**2\n",
    "        return avgE\n",
    "    \n",
    "    return None  # Explicit return when calcE is False"
   ]
  },
  {
   "cell_type": "code",
   "execution_count": 24,
   "metadata": {},
   "outputs": [],
   "source": [
    "import numpy as np\n",
    "\n",
    "def flip_cluster(mat, cluster):\n",
    "    \"\"\"Flip all spins in a cluster for the Wolff algorithm.\n",
    "    \n",
    "    Args:\n",
    "        mat (np.ndarray): 2D numpy array containing the current spin configuration\n",
    "        cluster (list): List of tuples (i,j) representing positions of spins to be flipped\n",
    "    \"\"\"\n",
    "    for i, j in cluster:\n",
    "        mat[i, j] *= -1\n",
    "\n",
    "def iterate_wolff(mat, T, calc_e=False):\n",
    "    \"\"\"Perform one iteration of the Wolff algorithm for a 2D Ising model on a square lattice.\n",
    "    \n",
    "    Args:\n",
    "        mat (np.ndarray): 2D numpy array containing the current spin configuration\n",
    "        T (float): Temperature for the simulation (in units of J/kB)\n",
    "        calc_e (bool, optional): Flag to calculate and return the average energy per spin. \n",
    "            Defaults to False.\n",
    "    \n",
    "    Returns:\n",
    "        float or None: Average energy per spin if calc_e is True, None otherwise\n",
    "    \n",
    "    Notes:\n",
    "        - Periodic boundary conditions are used\n",
    "        - The coupling constant J is assumed to be 1\n",
    "        - The Boltzmann constant kB is assumed to be 1\n",
    "    \"\"\"\n",
    "    L = mat.shape[0]\n",
    "    if mat.shape != (L, L):\n",
    "        raise ValueError(\"Input matrix must be square\")\n",
    "    \n",
    "    # Keep track of which spins have been considered for the cluster\n",
    "    tracker = np.zeros((L, L), dtype=bool)\n",
    "    \n",
    "    # Randomly select starting point\n",
    "    i, j = np.random.randint(0, L, size=2)\n",
    "    spin = mat[i, j]\n",
    "    \n",
    "    # Initialize cluster with starting point\n",
    "    stack = [(i, j)]\n",
    "    tracker[i, j] = True\n",
    "    cluster = [(i, j)]\n",
    "    \n",
    "    # Probability of adding aligned spins to cluster\n",
    "    p_add = 1.0 - np.exp(-2.0 / T)\n",
    "    \n",
    "    # Grow cluster\n",
    "    while stack:\n",
    "        i, j = stack.pop()\n",
    "        # Check all nearest neighbors\n",
    "        for ni, nj in [(i, (j+1)%L), (i, (j-1)%L), ((i+1)%L, j), ((i-1)%L, j)]:\n",
    "            if mat[ni, nj] == spin and not tracker[ni, nj] and np.random.random() < p_add:\n",
    "                cluster.append((ni, nj))\n",
    "                stack.append((ni, nj))\n",
    "                tracker[ni, nj] = True\n",
    "    \n",
    "    # Flip the cluster\n",
    "    flip_cluster(mat, cluster)\n",
    "    \n",
    "    if calc_e:\n",
    "        # Calculate average energy per spin\n",
    "        energy = 0.0\n",
    "        for i in range(L):\n",
    "            for j in range(L):\n",
    "                spin = mat[i, j]\n",
    "                neighbors_sum = (mat[(i+1)%L, j] + mat[(i-1)%L, j] + \n",
    "                               mat[i, (j+1)%L] + mat[i, (j-1)%L])\n",
    "                energy -= spin * neighbors_sum\n",
    "        \n",
    "        return energy / (2.0 * L * L)  # Factor of 2 corrects for double counting\n",
    "    \n",
    "    return None"
   ]
  },
  {
   "cell_type": "code",
   "execution_count": 25,
   "metadata": {},
   "outputs": [],
   "source": [
    "import numpy as np\n",
    "\n",
    "def calc_correlation(mat, dist):\n",
    "    \"\"\"Calculate the spin-spin truncated correlation function for spins separated by a specified distance.\n",
    "    \n",
    "    This function computes the two-point correlation function for a 2D Ising model,\n",
    "    averaged over all pairs of spins separated by the given distance in both horizontal\n",
    "    and vertical directions.\n",
    "    \n",
    "    Args:\n",
    "        mat (np.ndarray): 2D numpy array containing the current spin configuration\n",
    "        dist (int): Distance value for the correlation function\n",
    "        \n",
    "    Returns:\n",
    "        tuple: (distance, correlation_function_value)\n",
    "        \n",
    "    Notes:\n",
    "        - Uses periodic boundary conditions\n",
    "        - Includes both horizontal and vertical separations\n",
    "        - Returns the connected correlation function: <s_i * s_j> - <s_i><s_j>\n",
    "    \"\"\"\n",
    "    L = mat.shape[0]\n",
    "    if mat.shape != (L, L):\n",
    "        raise ValueError(\"Input matrix must be square\")\n",
    "    if dist >= L:\n",
    "        raise ValueError(\"Distance must be less than system size\")\n",
    "    \n",
    "    # Calculate spin products for pairs separated by distance\n",
    "    products = 0.0\n",
    "    spin_sum = 0.0\n",
    "    \n",
    "    for i in range(L):\n",
    "        for j in range(L):\n",
    "            # Reference spin\n",
    "            spin_i = mat[i, j]\n",
    "            spin_sum += spin_i\n",
    "            \n",
    "            # Get spins at distance 'dist' in all four directions\n",
    "            spins_at_dist = (\n",
    "                mat[i, (j + dist) % L],  # right\n",
    "                mat[i, (j - dist) % L],  # left\n",
    "                mat[(i + dist) % L, j],  # down\n",
    "                mat[(i - dist) % L, j]   # up\n",
    "            )\n",
    "            \n",
    "            # Sum the products with all spins at distance 'dist'\n",
    "            products += spin_i * sum(spins_at_dist)\n",
    "    \n",
    "    # Normalize the sums\n",
    "    n_pairs = 4 * L * L  # Total number of pairs counted\n",
    "    products /= n_pairs\n",
    "    avg_spin = spin_sum / (L * L)\n",
    "    \n",
    "    # Calculate connected correlation function\n",
    "    correlation = products - avg_spin * avg_spin\n",
    "    \n",
    "    return dist, correlation\n",
    "\n",
    "def calc_correlation_length(corrs, distances=None):\n",
    "    \"\"\"Calculate the correlation length from correlation function values.\n",
    "    \n",
    "    Fits the correlation function to an exponential decay and extracts\n",
    "    the correlation length from the fitted slope.\n",
    "    \n",
    "    Args:\n",
    "        corrs (np.ndarray): Array of correlation function values\n",
    "        distances (np.ndarray, optional): Array of distances corresponding to correlation values.\n",
    "            If None, assumes distances start at 1 and increment by 1.\n",
    "    \n",
    "    Returns:\n",
    "        float: Correlation length\n",
    "        \n",
    "    Notes:\n",
    "        - Fits log(correlation) vs. distance to extract correlation length\n",
    "        - Correlation length is negative inverse of the fitted slope\n",
    "        - Assumes exponential decay of correlations\n",
    "    \"\"\"\n",
    "    if distances is None:\n",
    "        distances = np.arange(1, len(corrs) + 1, dtype=float)\n",
    "    \n",
    "    if len(corrs) < 2:\n",
    "        raise ValueError(\"Need at least two points to calculate correlation length\")\n",
    "    \n",
    "    # Take log of absolute value of correlations to handle possible negative values\n",
    "    log_corrs = np.log(np.abs(corrs))\n",
    "    \n",
    "    # Perform linear fit to log(correlations)\n",
    "    slope, _ = np.polyfit(distances, log_corrs, 1)\n",
    "    \n",
    "    # Correlation length is negative inverse of slope\n",
    "    correlation_length = -1.0 / slope\n",
    "    \n",
    "    return correlation_length"
   ]
  },
  {
   "cell_type": "code",
   "execution_count": 26,
   "metadata": {},
   "outputs": [],
   "source": [
    "def simulate(mat,T,steps):\n",
    "    #MC simulation for a square lattice, using the Wolff algorithm\n",
    "    for _ in range(steps):\n",
    "        iterate_wolff(mat,T)"
   ]
  },
  {
   "cell_type": "code",
   "execution_count": 27,
   "metadata": {},
   "outputs": [],
   "source": [
    "def generateSamples(T,L,steps,samples,dirPath):\n",
    "    # Generate, label, and save configurations for a square lattice\n",
    "    \"\"\"\n",
    "    Parameters:\n",
    "        T: Temperature\n",
    "        L: Linear lattice size\n",
    "        steps: Number of simulation steps\n",
    "        sample: Number of configuration steps\n",
    "        dirPath: save location\n",
    "    \"\"\"\n",
    "    for i in range(1,samples+1):\n",
    "        mat = createArray(L)\n",
    "        simulate(mat,T,steps)\n",
    "        \n",
    "        if T<2.27: # For a square lattice, the critical T is ~2.27\n",
    "            category = \"low\"\n",
    "        else:\n",
    "            category = \"high\"\n",
    "        \n",
    "        path = os.path.join(dirPath,category)\n",
    "        os.makedirs(path, exist_ok=True)\n",
    "        np.save(os.path.join(path,f\"{category}_{T:.2f}_{i}_\"),mat)"
   ]
  },
  {
   "cell_type": "code",
   "execution_count": 28,
   "metadata": {},
   "outputs": [
    {
     "data": {
      "text/plain": [
       "<matplotlib.image.AxesImage at 0x1a3327ae7b0>"
      ]
     },
     "execution_count": 28,
     "metadata": {},
     "output_type": "execute_result"
    },
    {
     "data": {
      "image/png": "[encoded data removed]",
      "text/plain": [
       "<Figure size 640x480 with 1 Axes>"
      ]
     },
     "metadata": {},
     "output_type": "display_data"
    }
   ],
   "source": [
    "# Initial configuration of 50x50 Ising lattice\n",
    "mat=createArray(50)\n",
    "plt.imshow(mat)"
   ]
  },
  {
   "cell_type": "code",
   "execution_count": 29,
   "metadata": {},
   "outputs": [
    {
     "data": {
      "text/plain": [
       "<matplotlib.image.AxesImage at 0x1a32f4a92b0>"
      ]
     },
     "execution_count": 29,
     "metadata": {},
     "output_type": "execute_result"
    },
    {
     "data": {
      "image/png": "[encoded data removed]",
      "text/plain": [
       "<Figure size 640x480 with 1 Axes>"
      ]
     },
     "metadata": {},
     "output_type": "display_data"
    }
   ],
   "source": [
    "simulate(mat,2.3,3000)\n",
    "plt.imshow(mat)"
   ]
  },
  {
   "cell_type": "code",
   "execution_count": 30,
   "metadata": {},
   "outputs": [
    {
     "data": {
      "text/plain": [
       "<matplotlib.image.AxesImage at 0x1a3328064e0>"
      ]
     },
     "execution_count": 30,
     "metadata": {},
     "output_type": "execute_result"
    },
    {
     "data": {
      "image/png": "[encoded data removed]",
      "text/plain": [
       "<Figure size 640x480 with 1 Axes>"
      ]
     },
     "metadata": {},
     "output_type": "display_data"
    }
   ],
   "source": [
    "# High temperature simulation of 50x50 Ising lattice\n",
    "mat=createArray(50)\n",
    "simulate(mat,9.3,3000)\n",
    "plt.imshow(mat)"
   ]
  },
  {
   "cell_type": "code",
   "execution_count": 31,
   "metadata": {},
   "outputs": [
    {
     "data": {
      "text/plain": [
       "<matplotlib.image.AxesImage at 0x1a3329f6a50>"
      ]
     },
     "execution_count": 31,
     "metadata": {},
     "output_type": "execute_result"
    },
    {
     "data": {
      "image/png": "[encoded data removed]",
      "text/plain": [
       "<Figure size 640x480 with 1 Axes>"
      ]
     },
     "metadata": {},
     "output_type": "display_data"
    }
   ],
   "source": [
    "mat=createArray(50)\n",
    "simulate(mat,1.2,30)\n",
    "plt.imshow(mat)"
   ]
  },
  {
   "cell_type": "code",
   "execution_count": 32,
   "metadata": {},
   "outputs": [
    {
     "name": "stderr",
     "output_type": "stream",
     "text": [
      "100%|██████████| 20000/20000 [00:51<00:00, 389.65it/s]\n"
     ]
    }
   ],
   "source": [
    "steps=20000\n",
    "mat_lowT=createArray(20)\n",
    "mat_critT=createArray(20)\n",
    "mat_highT=createArray(20)\n",
    "\n",
    "avgE_lowT = np.zeros(steps)\n",
    "avgE_critT = np.zeros(steps)\n",
    "avgE_highT = np.zeros(steps)\n",
    "\n",
    "for step in tqdm(range(steps)):\n",
    "    \n",
    "    avgE_lowT[step] = iterate_wolff(mat_lowT,1.8,True)\n",
    "    avgE_critT[step] = iterate_wolff(mat_critT,2.3,True)\n",
    "    avgE_highT[step] = iterate_wolff(mat_highT,3.1,True)\n",
    "    "
   ]
  },
  {
   "cell_type": "code",
   "execution_count": 33,
   "metadata": {},
   "outputs": [
    {
     "data": {
      "text/plain": [
       "Text(0, 0.5, 'Avg particle energy')"
      ]
     },
     "execution_count": 33,
     "metadata": {},
     "output_type": "execute_result"
    },
    {
     "data": {
      "image/png": "[encoded data removed]",
      "text/plain": [
       "<Figure size 640x480 with 1 Axes>"
      ]
     },
     "metadata": {},
     "output_type": "display_data"
    }
   ],
   "source": [
    "plt.plot(avgE_lowT, label = \"low T\")\n",
    "plt.plot(avgE_critT,label = \"critical T\")\n",
    "plt.plot(avgE_highT,label = \"high T\")\n",
    "plt.legend(loc=\"upper right\")\n",
    "plt.xlabel(\"Iteration number\")\n",
    "plt.ylabel(\"Avg particle energy\")"
   ]
  },
  {
   "cell_type": "code",
   "execution_count": 34,
   "metadata": {},
   "outputs": [
    {
     "data": {
      "text/plain": [
       "array([1.5 , 1.6 , 1.7 , 1.8 , 1.9 , 2.  , 2.1 , 2.2 , 2.3 , 2.4 , 2.5 ,\n",
       "       2.6 , 2.7 , 2.8 , 2.9 , 3.  , 3.1 , 1.75, 1.85, 1.95, 2.05, 2.15,\n",
       "       2.25, 2.35, 2.45, 2.55, 2.65, 2.75, 2.85, 2.95])"
      ]
     },
     "execution_count": 34,
     "metadata": {},
     "output_type": "execute_result"
    }
   ],
   "source": [
    "Temps = np.concatenate((np.arange(1.5,3.2,0.1),np.arange(1.75,3.05,0.1)))\n",
    "\n",
    "Temps"
   ]
  },
  {
   "cell_type": "code",
   "execution_count": 35,
   "metadata": {},
   "outputs": [],
   "source": [
    "import os\n",
    "import numpy as np\n",
    "from tqdm import tqdm\n",
    "\n",
    "def generateSamples(T, L, steps, samples, dirPath):\n",
    "    \"\"\"\n",
    "    Generate, label, and save configurations for a square lattice.\n",
    "\n",
    "    Parameters:\n",
    "        T (float): Temperature.\n",
    "        L (int): Linear lattice size.\n",
    "        steps (int): Number of simulation steps.\n",
    "        samples (int): Number of configuration steps.\n",
    "        dirPath (str): Save location.\n",
    "    \"\"\"\n",
    "    for i in tqdm(range(1, samples + 1), desc=f\"Generating samples at T={T:.2f}\",dynamic_ncols=True, position=1):\n",
    "        mat = createArray(L)\n",
    "        simulate(mat, T, steps)\n",
    "\n",
    "        category = \"low\" if T < 2.27 else \"high\"\n",
    "        path = os.path.join(dirPath, category)\n",
    "        os.makedirs(path, exist_ok=True)\n",
    "\n",
    "        np.save(os.path.join(path, f\"{category}_{T:.2f}_{i}.npy\"), mat)\n"
   ]
  },
  {
   "cell_type": "code",
   "execution_count": 36,
   "metadata": {},
   "outputs": [
    {
     "name": "stderr",
     "output_type": "stream",
     "text": [
      "Generating samples at T=1.50: 100%|██████████| 500/500 [14:36<00:00,  1.75s/it]\n",
      "Generating samples at T=1.60: 100%|██████████| 500/500 [10:29<00:00,  1.26s/it]\n",
      "Generating samples at T=1.70: 100%|██████████| 500/500 [13:49<00:00,  1.66s/it]\n",
      "Generating samples at T=1.80: 100%|██████████| 500/500 [13:36<00:00,  1.63s/it]\n",
      "Generating samples at T=1.90: 100%|██████████| 500/500 [10:59<00:00,  1.32s/it]\n",
      "Generating samples at T=2.00: 100%|██████████| 500/500 [12:54<00:00,  1.55s/it]\n",
      "Generating samples at T=2.10: 100%|██████████| 500/500 [15:10<00:00,  1.82s/it]\n",
      "Generating samples at T=2.20: 100%|██████████| 500/500 [10:26<00:00,  1.25s/it]\n",
      "Generating samples at T=2.30: 100%|██████████| 500/500 [06:01<00:00,  1.38it/s]\n",
      "Generating samples at T=2.40: 100%|██████████| 500/500 [03:41<00:00,  2.25it/s]\n",
      "Generating samples at T=2.50: 100%|██████████| 500/500 [01:42<00:00,  4.89it/s]\n",
      "Generating samples at T=2.60: 100%|██████████| 500/500 [01:00<00:00,  8.28it/s]\n",
      "Generating samples at T=2.70: 100%|██████████| 500/500 [00:50<00:00,  9.98it/s]\n",
      "Generating samples at T=2.80: 100%|██████████| 500/500 [00:32<00:00, 15.21it/s]\n",
      "Generating samples at T=2.90: 100%|██████████| 500/500 [00:26<00:00, 18.79it/s]\n",
      "Generating samples at T=3.00: 100%|██████████| 500/500 [00:25<00:00, 19.36it/s]\n",
      "Generating samples at T=3.10: 100%|██████████| 500/500 [00:19<00:00, 25.81it/s]\n",
      "Generating samples at T=1.75: 100%|██████████| 500/500 [09:59<00:00,  1.20s/it]\n",
      "Generating samples at T=1.85: 100%|██████████| 500/500 [10:54<00:00,  1.31s/it]\n",
      "Generating samples at T=1.95: 100%|██████████| 500/500 [11:39<00:00,  1.40s/it]\n",
      "Generating samples at T=2.05: 100%|██████████| 500/500 [10:24<00:00,  1.25s/it]\n",
      "Generating samples at T=2.15: 100%|██████████| 500/500 [07:48<00:00,  1.07it/s]\n",
      "Generating samples at T=2.25: 100%|██████████| 500/500 [08:05<00:00,  1.03it/s]\n",
      "Generating samples at T=2.35: 100%|██████████| 500/500 [04:57<00:00,  1.68it/s]\n",
      "Generating samples at T=2.45: 100%|██████████| 500/500 [02:18<00:00,  3.60it/s]\n",
      "Generating samples at T=2.55: 100%|██████████| 500/500 [01:47<00:00,  4.65it/s]\n",
      "Generating samples at T=2.65: 100%|██████████| 500/500 [00:49<00:00, 10.10it/s]\n",
      "Generating samples at T=2.75: 100%|██████████| 500/500 [00:35<00:00, 14.01it/s]\n",
      "Generating samples at T=2.85: 100%|██████████| 500/500 [00:29<00:00, 16.98it/s]\n",
      "Generating samples at T=2.95: 100%|██████████| 500/500 [00:23<00:00, 21.23it/s]\n",
      "Processing Temperatures: 100%|██████████| 30/30 [3:07:20<00:00, 374.67s/it]\n"
     ]
    }
   ],
   "source": [
    "import numpy as np\n",
    "import os\n",
    "from tqdm import tqdm\n",
    "\n",
    "# Example temperature range\n",
    "samples = 500\n",
    "L = 20\n",
    "steps = 1000\n",
    "train_path = \"train\"  # Set the actual path\n",
    "\n",
    "# Sequential processing with tqdm\n",
    "for T in tqdm(Temps, desc=\"Processing Temperatures\", position = 0):\n",
    "    generateSamples(T, L, steps, samples, train_path)"
   ]
  },
  {
   "cell_type": "code",
   "execution_count": 37,
   "metadata": {},
   "outputs": [
    {
     "name": "stderr",
     "output_type": "stream",
     "text": [
      "Generating samples at T=1.50: 100%|██████████| 100/100 [01:40<00:00,  1.00s/it]\n",
      "Generating samples at T=1.60: 100%|██████████| 100/100 [02:46<00:00,  1.66s/it]\n",
      "Generating samples at T=1.70: 100%|██████████| 100/100 [02:05<00:00,  1.26s/it]\n",
      "Generating samples at T=1.80: 100%|██████████| 100/100 [01:47<00:00,  1.07s/it]\n",
      "Generating samples at T=1.90: 100%|██████████| 100/100 [02:20<00:00,  1.41s/it]\n",
      "Generating samples at T=2.00: 100%|██████████| 100/100 [01:32<00:00,  1.08it/s]\n",
      "Generating samples at T=2.10: 100%|██████████| 100/100 [01:25<00:00,  1.17it/s]\n",
      "Generating samples at T=2.20: 100%|██████████| 100/100 [01:10<00:00,  1.41it/s]\n",
      "Generating samples at T=2.30: 100%|██████████| 100/100 [00:50<00:00,  1.99it/s]\n",
      "Generating samples at T=2.40: 100%|██████████| 100/100 [00:29<00:00,  3.36it/s]\n",
      "Generating samples at T=2.50: 100%|██████████| 100/100 [00:16<00:00,  5.93it/s]\n",
      "Generating samples at T=2.60: 100%|██████████| 100/100 [00:11<00:00,  8.69it/s]\n",
      "Generating samples at T=2.70: 100%|██████████| 100/100 [00:07<00:00, 13.98it/s]\n",
      "Generating samples at T=2.80: 100%|██████████| 100/100 [00:05<00:00, 16.87it/s]\n",
      "Generating samples at T=2.90: 100%|██████████| 100/100 [00:04<00:00, 20.87it/s]\n",
      "Generating samples at T=3.00: 100%|██████████| 100/100 [00:04<00:00, 24.40it/s]\n",
      "Generating samples at T=3.10: 100%|██████████| 100/100 [00:03<00:00, 28.82it/s]\n",
      "Generating samples at T=1.75: 100%|██████████| 100/100 [01:35<00:00,  1.05it/s]\n",
      "Generating samples at T=1.85: 100%|██████████| 100/100 [02:06<00:00,  1.26s/it]\n",
      "Generating samples at T=1.95: 100%|██████████| 100/100 [02:07<00:00,  1.27s/it]\n",
      "Generating samples at T=2.05: 100%|██████████| 100/100 [01:43<00:00,  1.03s/it]\n",
      "Generating samples at T=2.15: 100%|██████████| 100/100 [01:36<00:00,  1.03it/s]\n",
      "Generating samples at T=2.25: 100%|██████████| 100/100 [01:02<00:00,  1.60it/s]\n",
      "Generating samples at T=2.35: 100%|██████████| 100/100 [00:37<00:00,  2.64it/s]\n",
      "Generating samples at T=2.45: 100%|██████████| 100/100 [00:22<00:00,  4.40it/s]\n",
      "Generating samples at T=2.55: 100%|██████████| 100/100 [00:14<00:00,  6.94it/s]\n",
      "Generating samples at T=2.65: 100%|██████████| 100/100 [00:10<00:00,  9.85it/s]\n",
      "Generating samples at T=2.75: 100%|██████████| 100/100 [00:07<00:00, 13.13it/s]\n",
      "Generating samples at T=2.85: 100%|██████████| 100/100 [00:05<00:00, 18.03it/s]\n",
      "Generating samples at T=2.95: 100%|██████████| 100/100 [00:05<00:00, 19.53it/s]\n",
      "Processing Temperatures: 100%|██████████| 30/30 [28:57<00:00, 57.91s/it]\n"
     ]
    }
   ],
   "source": [
    "import numpy as np\n",
    "import os\n",
    "from tqdm import tqdm\n",
    "\n",
    "# Example temperature range\n",
    "samples = 100\n",
    "L = 20\n",
    "steps = 1000\n",
    "train_path = \"validation\"  # Set the actual path\n",
    "\n",
    "# Sequential processing with tqdm\n",
    "for T in tqdm(Temps, desc=\"Processing Temperatures\", position = 0):\n",
    "    generateSamples(T, L, steps, samples, train_path)"
   ]
  }
 ],
 "metadata": {
  "kernelspec": {
   "display_name": "Python 3",
   "language": "python",
   "name": "python3"
  },
  "language_info": {
   "codemirror_mode": {
    "name": "ipython",
    "version": 3
   },
   "file_extension": ".py",
   "mimetype": "text/x-python",
   "name": "python",
   "nbconvert_exporter": "python",
   "pygments_lexer": "ipython3",
   "version": "3.12.4"
  }
 },
 "nbformat": 4,
 "nbformat_minor": 2
}
