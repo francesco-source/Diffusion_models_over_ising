{
 "cells": [
  {
   "cell_type": "code",
   "execution_count": 7,
   "metadata": {},
   "outputs": [],
   "source": [
    "%matplotlib inline\n",
    "import numpy as np\n",
    "import os\n",
    "from random import shuffle\n",
    "from tqdm import tqdm\n",
    "import matplotlib.pyplot as plt\n",
    "import pandas as pd\n",
    "import torch\n",
    "import torch.nn as nn\n",
    "import torch.nn.functional as F\n",
    "import torch.optim as optim\n",
    "import matplotlib.pyplot as plt\n"
   ]
  },
  {
   "cell_type": "code",
   "execution_count": 2,
   "metadata": {},
   "outputs": [],
   "source": [
    "train_path = r'C:\\Users\\frenc\\Documents\\dottorato\\ising\\train'\n",
    "valid_path = r'C:\\Users\\frenc\\Documents\\dottorato\\ising\\validation'"
   ]
  },
  {
   "cell_type": "code",
   "execution_count": 1,
   "metadata": {},
   "outputs": [
    {
     "name": "stderr",
     "output_type": "stream",
     "text": [
      "100%|██████████| 7000/7000 [01:18<00:00, 89.58it/s] \n",
      "100%|██████████| 8000/8000 [00:07<00:00, 1033.81it/s]\n",
      "100%|██████████| 1400/1400 [00:01<00:00, 946.01it/s]\n",
      "100%|██████████| 1600/1600 [00:01<00:00, 914.13it/s] \n"
     ]
    }
   ],
   "source": [
    "import os\n",
    "import numpy as np\n",
    "from tqdm import tqdm\n",
    "from random import shuffle\n",
    "def one_hot_label(img):\n",
    "    # img is the file name of a configuration\n",
    "    label, T, _, = img.split('_')\n",
    "    if label == 'low':\n",
    "        ohl = np.array([1, 0])\n",
    "    elif label == 'high':\n",
    "        ohl = np.array([0, 1])\n",
    "    return ohl, T\n",
    "\n",
    "def data_with_label(data_path, *args):\n",
    "    data = []\n",
    "    if args: \n",
    "        for category in args:\n",
    "            category_path = os.path.join(data_path, category)  # Category folder\n",
    "            for i in tqdm(os.listdir(category_path)):\n",
    "                path = os.path.join(category_path, i) \n",
    "                img = np.load(path)  # Assuming the files are NumPy arrays\n",
    "                data.append([img.astype(dtype='float32'), one_hot_label(i)])\n",
    "        shuffle(data)\n",
    "    return data\n",
    "\n",
    "train_path = r'C:\\Users\\frenc\\Documents\\dottorato\\ising\\train'\n",
    "valid_path = r'C:\\Users\\frenc\\Documents\\dottorato\\ising\\validation'\n",
    "\n",
    "\n",
    "train_set = data_with_label(train_path, 'low', 'high')\n",
    "\n",
    "valid_set = data_with_label(valid_path, 'low', 'high')"
   ]
  },
  {
   "cell_type": "code",
   "execution_count": 2,
   "metadata": {},
   "outputs": [],
   "source": [
    "tr_img_data = np.array([i[0] for i in train_set])\n",
    "tr_lbl_data = np.array([i[1][0] for i in train_set])\n",
    "tr_Temp_data = np.array([i[1][1] for i in train_set])\n",
    "val_img_data = np.array([i[0] for i in valid_set])\n",
    "val_lbl_data = np.array([i[1][0] for i in valid_set])\n",
    "val_Temp_data = np.array([float(i[1][1]) for i in valid_set])\n",
    "\n"
   ]
  },
  {
   "cell_type": "code",
   "execution_count": 5,
   "metadata": {},
   "outputs": [],
   "source": [
    "L = val_img_data.shape[2]"
   ]
  },
  {
   "cell_type": "code",
   "execution_count": 8,
   "metadata": {},
   "outputs": [
    {
     "data": {
      "image/png": "[encoded data removed]",
      "text/plain": [
       "<Figure size 1000x1000 with 16 Axes>"
      ]
     },
     "metadata": {},
     "output_type": "display_data"
    }
   ],
   "source": [
    "plt.figure(figsize=(10,10))\n",
    "for i in range(16):\n",
    "    #idx=bad_predictions[i]\n",
    "    plt.subplot(4,4,i+1)\n",
    "    plt.xticks([])\n",
    "    plt.yticks([])\n",
    "    plt.grid(False)\n",
    "    plt.imshow(tr_img_data[i])\n",
    "    if tr_lbl_data[i][0] == 1:\n",
    "        label = \"Low\"\n",
    "    elif tr_lbl_data[i][1] == 1:\n",
    "        label = \"High\"\n",
    "    plt.xlabel(f'{label}, {tr_Temp_data[i]}')"
   ]
  },
  {
   "cell_type": "code",
   "execution_count": 9,
   "metadata": {},
   "outputs": [],
   "source": [
    "\n",
    "# Assuming `tr_img_data` and `tr_lbl_data` are already loaded numpy arrays\n",
    "train_images = torch.tensor(tr_img_data, dtype=torch.float32)  # Input data (e.g., (N, 20, 20))\n",
    "train_labels = torch.tensor(tr_lbl_data, dtype=torch.float32)  # Labels (e.g., (N,))\n",
    "val_images = torch.tensor(val_img_data, dtype=torch.float32)  # Input data (e.g., (N, 20, 20))\n",
    "val_labels = torch.tensor(val_lbl_data, dtype=torch.float32)  "
   ]
  },
  {
   "cell_type": "code",
   "execution_count": 10,
   "metadata": {},
   "outputs": [],
   "source": [
    "def calculate_accuracy(predictions, true_labels):\n",
    "    # Convert predictions and true_labels into numpy arrays if they aren't already\n",
    "    \n",
    "    predictions = predictions.detach().cpu().numpy()  # Move to CPU and detach from the graph\n",
    "    true_labels = true_labels.detach().cpu().numpy() \n",
    "\n",
    "\n",
    "    # Calculate the number of correct predictions\n",
    "    correct_predictions = np.sum(np.argmax(predictions, axis=1) == np.argmax(true_labels, axis=1))\n",
    "    total_predictions = len(predictions)\n",
    "\n",
    "    # Return accuracy\n",
    "    accuracy = correct_predictions / total_predictions\n",
    "    return accuracy"
   ]
  },
  {
   "cell_type": "code",
   "execution_count": 11,
   "metadata": {},
   "outputs": [],
   "source": [
    "def train_model(model, train_images, train_labels, val_images, val_labels, epochs=15, batch_size=32, lr=0.001):\n",
    "    \"\"\"\n",
    "    Train a model using the provided training data.\n",
    "\n",
    "    Parameters:\n",
    "        model: The model to train (instance of nn.Module).\n",
    "        train_images: Tensor of input data (e.g., shape (N, 20, 20)).\n",
    "        train_labels: Tensor of labels (e.g., shape (N,)).\n",
    "        val_images: Tensor of validation images.\n",
    "        val_labels: Tensor of validation labels.\n",
    "        epochs: Number of training epochs.\n",
    "        batch_size: Batch size for training.\n",
    "        lr: Learning rate.\n",
    "    \"\"\"\n",
    "    # Define the loss function and optimizer\n",
    "    criterion = nn.CrossEntropyLoss()\n",
    "    optimizer = optim.Adam(model.parameters(), lr=lr)\n",
    "\n",
    "    # Convert to the correct device (GPU if available)\n",
    "    device = torch.device(\"cuda\" if torch.cuda.is_available() else \"cpu\")\n",
    "    model.to(device)\n",
    "    train_images, train_labels = train_images.to(device), train_labels.to(device)\n",
    "    val_images, val_labels = val_images.to(device), val_labels.to(device)\n",
    "    \n",
    "    # Training loop\n",
    "    for epoch in range(epochs):\n",
    "        model.train()  # Set the model to training mode\n",
    "        epoch_loss = 0 \n",
    "        accuracy_epoch = []\n",
    "        \n",
    "        # Shuffle data and iterate in mini-batches\n",
    "        perm = torch.randperm(train_images.size(0))\n",
    "        for i in range(0, len(train_images), batch_size):\n",
    "            indices = perm[i:i+batch_size]\n",
    "            batch_images, batch_labels = train_images[indices], train_labels[indices]\n",
    "\n",
    "            # Forward pass: Compute predicted y by passing x to the model\n",
    "            outputs = model(batch_images)\n",
    "            \n",
    "            accuracy = calculate_accuracy(outputs, batch_labels)\n",
    "            # Calculate the loss\n",
    "            loss = criterion(outputs, batch_labels)\n",
    "\n",
    "            epoch_loss += loss.item()\n",
    "            # Zero gradients, backward pass, optimizer step\n",
    "            optimizer.zero_grad()  # Clear previous gradients\n",
    "            loss.backward()  # Backpropagate the loss\n",
    "            optimizer.step()  # Update the model parameters\n",
    "            accuracy_epoch.append(accuracy)\n",
    "        \n",
    "        # Calculate average loss and accuracy for the epoch\n",
    "        epoch_loss = epoch_loss / (len(train_images) // batch_size)\n",
    "        accuracy_epoch = np.mean(accuracy_epoch)\n",
    "\n",
    "        # Validation phase\n",
    "        model.eval()  # Set the model to evaluation mode\n",
    "        with torch.no_grad():  # No need to compute gradients during validation\n",
    "            val_outputs = model(val_images)\n",
    "            val_loss = criterion(val_outputs, val_labels)\n",
    "            val_accuracy = calculate_accuracy(val_outputs, val_labels)\n",
    "\n",
    "        # Print loss and accuracy statistics after each epoch\n",
    "        print(f\"Epoch {epoch + 1}/{epochs}, Train Loss: {epoch_loss:.4f}, Train Accuracy: {accuracy_epoch:.4f}, \"\n",
    "              f\"Val Loss: {val_loss.item():.4f}, Val Accuracy: {val_accuracy:.4f}\")\n"
   ]
  },
  {
   "cell_type": "code",
   "execution_count": 12,
   "metadata": {},
   "outputs": [
    {
     "name": "stdout",
     "output_type": "stream",
     "text": [
      "Epoch 1/20, Train Loss: 0.7196, Train Accuracy: 0.5064, Val Loss: 0.7083, Val Accuracy: 0.4343\n",
      "Epoch 2/20, Train Loss: 0.7046, Train Accuracy: 0.5292, Val Loss: 0.7072, Val Accuracy: 0.4553\n",
      "Epoch 3/20, Train Loss: 0.7015, Train Accuracy: 0.5316, Val Loss: 0.7116, Val Accuracy: 0.5143\n",
      "Epoch 4/20, Train Loss: 0.7002, Train Accuracy: 0.5234, Val Loss: 0.7201, Val Accuracy: 0.5437\n",
      "Epoch 5/20, Train Loss: 0.7004, Train Accuracy: 0.5340, Val Loss: 0.7123, Val Accuracy: 0.4607\n",
      "Epoch 6/20, Train Loss: 0.6992, Train Accuracy: 0.5305, Val Loss: 0.7217, Val Accuracy: 0.5180\n",
      "Epoch 7/20, Train Loss: 0.6986, Train Accuracy: 0.5347, Val Loss: 0.7200, Val Accuracy: 0.5063\n",
      "Epoch 8/20, Train Loss: 0.7018, Train Accuracy: 0.5274, Val Loss: 0.7108, Val Accuracy: 0.4550\n",
      "Epoch 9/20, Train Loss: 0.6987, Train Accuracy: 0.5259, Val Loss: 0.7107, Val Accuracy: 0.4537\n",
      "Epoch 10/20, Train Loss: 0.6982, Train Accuracy: 0.5231, Val Loss: 0.7282, Val Accuracy: 0.5287\n",
      "Epoch 11/20, Train Loss: 0.7008, Train Accuracy: 0.5245, Val Loss: 0.7223, Val Accuracy: 0.5233\n",
      "Epoch 12/20, Train Loss: 0.6970, Train Accuracy: 0.5288, Val Loss: 0.7277, Val Accuracy: 0.5207\n",
      "Epoch 13/20, Train Loss: 0.6988, Train Accuracy: 0.5236, Val Loss: 0.7122, Val Accuracy: 0.4460\n",
      "Epoch 14/20, Train Loss: 0.6972, Train Accuracy: 0.5353, Val Loss: 0.7183, Val Accuracy: 0.5257\n",
      "Epoch 15/20, Train Loss: 0.7009, Train Accuracy: 0.5292, Val Loss: 0.7256, Val Accuracy: 0.5363\n",
      "Epoch 16/20, Train Loss: 0.7009, Train Accuracy: 0.5271, Val Loss: 0.7109, Val Accuracy: 0.4427\n",
      "Epoch 17/20, Train Loss: 0.6991, Train Accuracy: 0.5312, Val Loss: 0.7118, Val Accuracy: 0.4583\n",
      "Epoch 18/20, Train Loss: 0.6976, Train Accuracy: 0.5249, Val Loss: 0.7413, Val Accuracy: 0.5223\n",
      "Epoch 19/20, Train Loss: 0.7006, Train Accuracy: 0.5318, Val Loss: 0.7383, Val Accuracy: 0.5220\n",
      "Epoch 20/20, Train Loss: 0.6969, Train Accuracy: 0.5282, Val Loss: 0.7294, Val Accuracy: 0.5377\n"
     ]
    }
   ],
   "source": [
    "\n",
    "class Model3(nn.Module):\n",
    "    def __init__(self):\n",
    "        super(Model3, self).__init__()\n",
    "        # Flatten layer is not needed explicitly in PyTorch, \n",
    "        # the input will be flattened automatically during forward pass.\n",
    "        self.fc = nn.Linear(L * L, 2)  # 20x20 flattened input, 2 output neurons\n",
    "\n",
    "    def forward(self, x):\n",
    "        x = x.view(-1, L * L)  # Flatten the input\n",
    "        x = self.fc(x) \n",
    "        return x\n",
    "\n",
    "\n",
    "model = Model3()\n",
    "\n",
    "# Call the train function\n",
    "train_model(model,\n",
    "            train_images,\n",
    "            train_labels, \n",
    "            val_images = val_images, \n",
    "            val_labels = val_labels, \n",
    "            epochs = 20, \n",
    "            batch_size = 32,\n",
    "            lr = 0.001\n",
    "            )\n",
    "\n"
   ]
  },
  {
   "cell_type": "markdown",
   "metadata": {},
   "source": [
    "## Second model simple hidden layer"
   ]
  },
  {
   "cell_type": "code",
   "execution_count": 13,
   "metadata": {},
   "outputs": [
    {
     "name": "stdout",
     "output_type": "stream",
     "text": [
      "Epoch 1/20, Train Loss: 0.6809, Train Accuracy: 0.5114, Val Loss: 0.6492, Val Accuracy: 0.6800\n",
      "Epoch 2/20, Train Loss: 0.5852, Train Accuracy: 0.7856, Val Loss: 0.5214, Val Accuracy: 0.9187\n",
      "Epoch 3/20, Train Loss: 0.4349, Train Accuracy: 0.9170, Val Loss: 0.3792, Val Accuracy: 0.9147\n",
      "Epoch 4/20, Train Loss: 0.3227, Train Accuracy: 0.9189, Val Loss: 0.2949, Val Accuracy: 0.9097\n",
      "Epoch 5/20, Train Loss: 0.2583, Train Accuracy: 0.9267, Val Loss: 0.2545, Val Accuracy: 0.9110\n",
      "Epoch 6/20, Train Loss: 0.2218, Train Accuracy: 0.9297, Val Loss: 0.2311, Val Accuracy: 0.9153\n",
      "Epoch 7/20, Train Loss: 0.2000, Train Accuracy: 0.9351, Val Loss: 0.2099, Val Accuracy: 0.9337\n",
      "Epoch 8/20, Train Loss: 0.1846, Train Accuracy: 0.9373, Val Loss: 0.1991, Val Accuracy: 0.9303\n",
      "Epoch 9/20, Train Loss: 0.1736, Train Accuracy: 0.9400, Val Loss: 0.1961, Val Accuracy: 0.9293\n",
      "Epoch 10/20, Train Loss: 0.1649, Train Accuracy: 0.9417, Val Loss: 0.1971, Val Accuracy: 0.9223\n",
      "Epoch 11/20, Train Loss: 0.1582, Train Accuracy: 0.9445, Val Loss: 0.1850, Val Accuracy: 0.9300\n",
      "Epoch 12/20, Train Loss: 0.1498, Train Accuracy: 0.9459, Val Loss: 0.1822, Val Accuracy: 0.9293\n",
      "Epoch 13/20, Train Loss: 0.1446, Train Accuracy: 0.9477, Val Loss: 0.1854, Val Accuracy: 0.9280\n",
      "Epoch 14/20, Train Loss: 0.1400, Train Accuracy: 0.9484, Val Loss: 0.1802, Val Accuracy: 0.9323\n",
      "Epoch 15/20, Train Loss: 0.1340, Train Accuracy: 0.9517, Val Loss: 0.1830, Val Accuracy: 0.9303\n",
      "Epoch 16/20, Train Loss: 0.1294, Train Accuracy: 0.9529, Val Loss: 0.1829, Val Accuracy: 0.9313\n",
      "Epoch 17/20, Train Loss: 0.1272, Train Accuracy: 0.9537, Val Loss: 0.1887, Val Accuracy: 0.9287\n",
      "Epoch 18/20, Train Loss: 0.1217, Train Accuracy: 0.9542, Val Loss: 0.1811, Val Accuracy: 0.9340\n",
      "Epoch 19/20, Train Loss: 0.1188, Train Accuracy: 0.9570, Val Loss: 0.1811, Val Accuracy: 0.9310\n",
      "Epoch 20/20, Train Loss: 0.1149, Train Accuracy: 0.9566, Val Loss: 0.1954, Val Accuracy: 0.9310\n"
     ]
    }
   ],
   "source": [
    "class Model1(nn.Module):\n",
    "    def __init__(self):\n",
    "        super(Model1, self).__init__()\n",
    "        # Flatten layer isn't needed in PyTorch, input shape is handled in the forward pass\n",
    "        self.flatten = nn.Flatten()\n",
    "        self.fc1 = nn.Linear(20 * 20, 10)  # Flattened 20x20 input to 10 output\n",
    "        self.fc2 = nn.Linear(10, 2)  # 10 to 2 outputs\n",
    "\n",
    "    def forward(self, x):\n",
    "        x = self.flatten(x)\n",
    "        x = torch.sigmoid(self.fc1(x))  # Sigmoid activation\n",
    "        x = self.fc2(x) \n",
    "        return x  # Apply softmax activation on the output layer\n",
    "\n",
    "# Example usage\n",
    "model1 = Model1()\n",
    "\n",
    "\n",
    "train_model(model1, train_images, train_labels,val_images=val_images, val_labels=val_labels, epochs = 20, batch_size = 32, lr = 0.001)"
   ]
  }
 ],
 "metadata": {
  "kernelspec": {
   "display_name": "Python 3",
   "language": "python",
   "name": "python3"
  },
  "language_info": {
   "codemirror_mode": {
    "name": "ipython",
    "version": 3
   },
   "file_extension": ".py",
   "mimetype": "text/x-python",
   "name": "python",
   "nbconvert_exporter": "python",
   "pygments_lexer": "ipython3",
   "version": "3.12.4"
  }
 },
 "nbformat": 4,
 "nbformat_minor": 2
}
